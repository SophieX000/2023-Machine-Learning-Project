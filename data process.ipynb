{
 "cells": [
  {
   "cell_type": "code",
   "execution_count": 203,
   "id": "e7fb2d86",
   "metadata": {},
   "outputs": [],
   "source": [
    "import numpy as np \n",
    "import pandas as pd\n",
    "import warnings\n",
    "warnings.filterwarnings('ignore')"
   ]
  },
  {
   "cell_type": "code",
   "execution_count": 204,
   "id": "73771ff8",
   "metadata": {},
   "outputs": [],
   "source": [
    "df=pd.read_csv('all_data.csv')"
   ]
  },
  {
   "cell_type": "code",
   "execution_count": 205,
   "id": "b0ec2458",
   "metadata": {},
   "outputs": [
    {
     "data": {
      "text/plain": [
       "(513451, 21)"
      ]
     },
     "execution_count": 205,
     "metadata": {},
     "output_type": "execute_result"
    }
   ],
   "source": [
    "df.shape"
   ]
  },
  {
   "cell_type": "markdown",
   "id": "4de1217c",
   "metadata": {},
   "source": [
    "1：删除无法处理的特征变量"
   ]
  },
  {
   "cell_type": "code",
   "execution_count": 206,
   "id": "8618bed5",
   "metadata": {},
   "outputs": [],
   "source": [
    "#删除表头的换行符\n",
    "df.columns = df.columns.str.replace('\\n', '')"
   ]
  },
  {
   "cell_type": "code",
   "execution_count": 207,
   "id": "96f26687",
   "metadata": {},
   "outputs": [],
   "source": [
    "#删除缺失值过多和无意义的列\n",
    "del df['EASE-MENT']\n",
    "del df['BLOCK']\n",
    "del df['LOT']\n",
    "del df['ADDRESS']\n",
    "del df['APARTMENT NUMBER']"
   ]
  },
  {
   "cell_type": "code",
   "execution_count": 208,
   "id": "507a1d92",
   "metadata": {},
   "outputs": [
    {
     "data": {
      "text/plain": [
       "(513451, 16)"
      ]
     },
     "execution_count": 208,
     "metadata": {},
     "output_type": "execute_result"
    }
   ],
   "source": [
    "df.shape"
   ]
  },
  {
   "cell_type": "markdown",
   "id": "bc66b7e7",
   "metadata": {},
   "source": [
    "将Borough从数字换为区域名"
   ]
  },
  {
   "cell_type": "code",
   "execution_count": 209,
   "id": "746af8e1",
   "metadata": {},
   "outputs": [],
   "source": [
    "df['BOROUGH'][df['BOROUGH'] == 1] = 'MANHATTAN'\n",
    "df['BOROUGH'][df['BOROUGH'] == 2] = 'BRONX'\n",
    "df['BOROUGH'][df['BOROUGH'] == 3] = 'BROOKLYN'\n",
    "df['BOROUGH'][df['BOROUGH'] == 4] = 'QUEENS'\n",
    "df['BOROUGH'][df['BOROUGH'] == 5] = 'STATEN ISLAND'"
   ]
  },
  {
   "cell_type": "code",
   "execution_count": 210,
   "id": "5f78575c",
   "metadata": {},
   "outputs": [
    {
     "data": {
      "text/plain": [
       "(513451, 16)"
      ]
     },
     "execution_count": 210,
     "metadata": {},
     "output_type": "execute_result"
    }
   ],
   "source": [
    "df.shape"
   ]
  },
  {
   "cell_type": "markdown",
   "id": "f57d4071",
   "metadata": {},
   "source": [
    "处理SALE PRICE, 删除缺失值‘-’，将0替换为相同zipcode内的平均数，保留在10000-100000000之间的房屋，并取对数处理"
   ]
  },
  {
   "cell_type": "code",
   "execution_count": 211,
   "id": "22444dcb",
   "metadata": {},
   "outputs": [],
   "source": [
    "#  删除缺失值‘-’\n",
    "df.drop(df[df['SALE PRICE'] ==' -  '].index, inplace=True)"
   ]
  },
  {
   "cell_type": "code",
   "execution_count": 212,
   "id": "915bf3f2",
   "metadata": {},
   "outputs": [
    {
     "data": {
      "text/plain": [
       "(498890, 16)"
      ]
     },
     "execution_count": 212,
     "metadata": {},
     "output_type": "execute_result"
    }
   ],
   "source": [
    "df.shape"
   ]
  },
  {
   "cell_type": "code",
   "execution_count": 213,
   "id": "dc709dd3",
   "metadata": {},
   "outputs": [],
   "source": [
    "# 将0替换为相同zipcode内的中位数\n",
    "df['SALE PRICE'] = df['SALE PRICE'].replace(0, np.nan)\n",
    "df['SALE PRICE'] = pd.to_numeric(df['SALE PRICE'], errors='coerce')\n",
    "df['SALE PRICE'] = df['SALE PRICE'].fillna(df.groupby('ZIP CODE')['SALE PRICE'].transform('mean'))"
   ]
  },
  {
   "cell_type": "code",
   "execution_count": 214,
   "id": "9b11b2ad",
   "metadata": {},
   "outputs": [],
   "source": [
    "# 保留在10000-100000000之间的房屋数据\n",
    "sanityindex = (df['SALE PRICE'] < 10000) | (df['SALE PRICE'] > 100000000)\n",
    "df = df[-sanityindex]"
   ]
  },
  {
   "cell_type": "code",
   "execution_count": 215,
   "id": "06e6d0f2",
   "metadata": {},
   "outputs": [],
   "source": [
    "df[\"log_Sale_Price\"] = df['SALE PRICE'].apply(np.log)"
   ]
  },
  {
   "cell_type": "code",
   "execution_count": 216,
   "id": "d6f98b0a",
   "metadata": {},
   "outputs": [
    {
     "data": {
      "text/plain": [
       "(478792, 17)"
      ]
     },
     "execution_count": 216,
     "metadata": {},
     "output_type": "execute_result"
    }
   ],
   "source": [
    "df.shape"
   ]
  },
  {
   "cell_type": "markdown",
   "id": "fa09d5dc",
   "metadata": {},
   "source": [
    "处理TAX CLASS AS OF FINAL ROLL 18/19，删除缺失值,将小于从低到高10%分位数的值全部归为OTHER"
   ]
  },
  {
   "cell_type": "code",
   "execution_count": 217,
   "id": "00676637",
   "metadata": {},
   "outputs": [],
   "source": [
    "df = df.dropna(subset=['TAX CLASS AS OF FINAL ROLL 18/19'])"
   ]
  },
  {
   "cell_type": "code",
   "execution_count": 218,
   "id": "a763cfee",
   "metadata": {},
   "outputs": [
    {
     "data": {
      "text/plain": [
       "11"
      ]
     },
     "execution_count": 218,
     "metadata": {},
     "output_type": "execute_result"
    }
   ],
   "source": [
    "df['TAX CLASS AS OF FINAL ROLL 18/19'].nunique()"
   ]
  },
  {
   "cell_type": "code",
   "execution_count": 219,
   "id": "21b27759",
   "metadata": {},
   "outputs": [],
   "source": [
    "TAX_CLASS_counts = df['TAX CLASS AS OF FINAL ROLL 18/19'].value_counts(normalize=True)\n",
    "TAX_CLASS_counts_sorted = TAX_CLASS_counts.sort_values(ascending=False)\n",
    "threshold_index = int(np.ceil(0.9 * len(TAX_CLASS_counts_sorted)))\n",
    "low_freq_TAX_CLASS = TAX_CLASS_counts_sorted.index[threshold_index:]\n",
    "df.loc[df['TAX CLASS AS OF FINAL ROLL 18/19'].isin(low_freq_TAX_CLASS),'TAX CLASS AS OF FINAL ROLL 18/19'] = 'OTHER'"
   ]
  },
  {
   "cell_type": "code",
   "execution_count": 220,
   "id": "4a0111f6",
   "metadata": {},
   "outputs": [
    {
     "data": {
      "text/plain": [
       "11"
      ]
     },
     "execution_count": 220,
     "metadata": {},
     "output_type": "execute_result"
    }
   ],
   "source": [
    "df['TAX CLASS AS OF FINAL ROLL 18/19'].nunique()"
   ]
  },
  {
   "cell_type": "code",
   "execution_count": 221,
   "id": "9c903868",
   "metadata": {},
   "outputs": [
    {
     "data": {
      "text/plain": [
       "(478227, 17)"
      ]
     },
     "execution_count": 221,
     "metadata": {},
     "output_type": "execute_result"
    }
   ],
   "source": [
    "df.shape"
   ]
  },
  {
   "cell_type": "markdown",
   "id": "1e7ea4cd",
   "metadata": {},
   "source": [
    "处理BUILDING CLASS AS OF FINAL ROLL 18/19，删除缺失值，将小于从低到高10%分位数的值全部归为OTHER"
   ]
  },
  {
   "cell_type": "code",
   "execution_count": 222,
   "id": "1116f843",
   "metadata": {},
   "outputs": [],
   "source": [
    "df = df.dropna(subset=['BUILDING CLASS AS OF FINAL ROLL 18/19'])"
   ]
  },
  {
   "cell_type": "code",
   "execution_count": 223,
   "id": "89ca2263",
   "metadata": {},
   "outputs": [
    {
     "data": {
      "text/plain": [
       "192"
      ]
     },
     "execution_count": 223,
     "metadata": {},
     "output_type": "execute_result"
    }
   ],
   "source": [
    "df['BUILDING CLASS AS OF FINAL ROLL 18/19'].nunique()"
   ]
  },
  {
   "cell_type": "code",
   "execution_count": 224,
   "id": "6e44fbc3",
   "metadata": {},
   "outputs": [],
   "source": [
    "BUILDING_CLASS_counts = df['BUILDING CLASS AS OF FINAL ROLL 18/19'].value_counts(normalize=True)\n",
    "BUILDING_CLASS_counts_sorted = BUILDING_CLASS_counts.sort_values(ascending=False)\n",
    "threshold_index = int(np.ceil(0.9 * len(BUILDING_CLASS_counts_sorted)))\n",
    "low_freq_BUILDING_CLASS = BUILDING_CLASS_counts_sorted.index[threshold_index:]\n",
    "df.loc[df['BUILDING CLASS AS OF FINAL ROLL 18/19'].isin(low_freq_BUILDING_CLASS),'BUILDING CLASS AS OF FINAL ROLL 18/19'] = 'OTHER'"
   ]
  },
  {
   "cell_type": "code",
   "execution_count": 225,
   "id": "d41a349b",
   "metadata": {},
   "outputs": [
    {
     "data": {
      "text/plain": [
       "174"
      ]
     },
     "execution_count": 225,
     "metadata": {},
     "output_type": "execute_result"
    }
   ],
   "source": [
    "df['BUILDING CLASS AS OF FINAL ROLL 18/19'].nunique()"
   ]
  },
  {
   "cell_type": "code",
   "execution_count": 226,
   "id": "3717259a",
   "metadata": {},
   "outputs": [
    {
     "data": {
      "text/plain": [
       "(478227, 17)"
      ]
     },
     "execution_count": 226,
     "metadata": {},
     "output_type": "execute_result"
    }
   ],
   "source": [
    "df.shape"
   ]
  },
  {
   "cell_type": "markdown",
   "id": "354ee3fc",
   "metadata": {},
   "source": [
    "处理Building Class At Time Of Sale，删除缺失值，将小于从低到高10%分位数的值全部归为OTHER"
   ]
  },
  {
   "cell_type": "code",
   "execution_count": 227,
   "id": "f68f6adf",
   "metadata": {},
   "outputs": [],
   "source": [
    "df = df.dropna(subset=['BUILDING CLASS AT TIME OF SALE'])"
   ]
  },
  {
   "cell_type": "code",
   "execution_count": 228,
   "id": "8a2b9c1a",
   "metadata": {},
   "outputs": [
    {
     "data": {
      "text/plain": [
       "191"
      ]
     },
     "execution_count": 228,
     "metadata": {},
     "output_type": "execute_result"
    }
   ],
   "source": [
    "df['BUILDING CLASS AT TIME OF SALE'].nunique()"
   ]
  },
  {
   "cell_type": "code",
   "execution_count": 229,
   "id": "55f19d70",
   "metadata": {},
   "outputs": [],
   "source": [
    "BUILDING_CLASS_SALE_counts = df['BUILDING CLASS AT TIME OF SALE'].value_counts(normalize=True)\n",
    "BUILDING_CLASS_SALE_counts_sorted = BUILDING_CLASS_SALE_counts.sort_values(ascending=False)\n",
    "threshold_index = int(np.ceil(0.9 * len(BUILDING_CLASS_SALE_counts_sorted)))\n",
    "low_freq_BUILDING_CLASS_SALE = BUILDING_CLASS_SALE_counts_sorted.index[threshold_index:]\n",
    "df.loc[df['BUILDING CLASS AT TIME OF SALE'].isin(low_freq_BUILDING_CLASS_SALE),'BUILDING CLASS AT TIME OF SALE'] = 'OTHER'"
   ]
  },
  {
   "cell_type": "code",
   "execution_count": 230,
   "id": "f8154820",
   "metadata": {},
   "outputs": [
    {
     "data": {
      "text/plain": [
       "173"
      ]
     },
     "execution_count": 230,
     "metadata": {},
     "output_type": "execute_result"
    }
   ],
   "source": [
    "df['BUILDING CLASS AT TIME OF SALE'].nunique()"
   ]
  },
  {
   "cell_type": "code",
   "execution_count": 231,
   "id": "ea81bd16",
   "metadata": {},
   "outputs": [
    {
     "data": {
      "text/plain": [
       "(478227, 17)"
      ]
     },
     "execution_count": 231,
     "metadata": {},
     "output_type": "execute_result"
    }
   ],
   "source": [
    "df.shape"
   ]
  },
  {
   "cell_type": "markdown",
   "id": "b9311418",
   "metadata": {},
   "source": [
    "处理ZIPCODE,删除缺失值和0值，将数据类行转换为object"
   ]
  },
  {
   "cell_type": "code",
   "execution_count": 232,
   "id": "bfe7aa57",
   "metadata": {},
   "outputs": [],
   "source": [
    "df['ZIP CODE'] = df['ZIP CODE'].replace(0, np.nan)\n",
    "df = df.dropna(subset=['ZIP CODE'])\n",
    "df['ZIP CODE'] = df['ZIP CODE'].astype('object')"
   ]
  },
  {
   "cell_type": "code",
   "execution_count": 233,
   "id": "deb40e08",
   "metadata": {},
   "outputs": [
    {
     "data": {
      "text/plain": [
       "(477185, 17)"
      ]
     },
     "execution_count": 233,
     "metadata": {},
     "output_type": "execute_result"
    }
   ],
   "source": [
    "df.shape"
   ]
  },
  {
   "cell_type": "markdown",
   "id": "b14c7640",
   "metadata": {},
   "source": [
    "处理RESIDENTIAL UNITS，删除缺失值"
   ]
  },
  {
   "cell_type": "code",
   "execution_count": 234,
   "id": "937a4ec0",
   "metadata": {},
   "outputs": [],
   "source": [
    "df = df.dropna(subset=['RESIDENTIAL UNITS'])"
   ]
  },
  {
   "cell_type": "code",
   "execution_count": 235,
   "id": "dd13acd8",
   "metadata": {},
   "outputs": [
    {
     "data": {
      "text/plain": [
       "(401146, 17)"
      ]
     },
     "execution_count": 235,
     "metadata": {},
     "output_type": "execute_result"
    }
   ],
   "source": [
    "df.shape"
   ]
  },
  {
   "cell_type": "markdown",
   "id": "d0a56593",
   "metadata": {},
   "source": [
    "处理COMMERCIAL UNITS，删除缺失值"
   ]
  },
  {
   "cell_type": "code",
   "execution_count": 236,
   "id": "1ff6b8a9",
   "metadata": {},
   "outputs": [],
   "source": [
    "df = df.dropna(subset=['COMMERCIAL UNITS'])"
   ]
  },
  {
   "cell_type": "code",
   "execution_count": 237,
   "id": "6e2c162c",
   "metadata": {},
   "outputs": [
    {
     "data": {
      "text/plain": [
       "(358993, 17)"
      ]
     },
     "execution_count": 237,
     "metadata": {},
     "output_type": "execute_result"
    }
   ],
   "source": [
    "df.shape"
   ]
  },
  {
   "cell_type": "markdown",
   "id": "0d19f639",
   "metadata": {},
   "source": [
    "处理TOTAL UNITS，删除缺失值"
   ]
  },
  {
   "cell_type": "code",
   "execution_count": 238,
   "id": "4a865351",
   "metadata": {},
   "outputs": [],
   "source": [
    "df = df.dropna(subset=['TOTAL UNITS'])"
   ]
  },
  {
   "cell_type": "code",
   "execution_count": 239,
   "id": "e9d8993b",
   "metadata": {},
   "outputs": [
    {
     "data": {
      "text/plain": [
       "(358993, 17)"
      ]
     },
     "execution_count": 239,
     "metadata": {},
     "output_type": "execute_result"
    }
   ],
   "source": [
    "df.shape"
   ]
  },
  {
   "cell_type": "markdown",
   "id": "b037e4aa",
   "metadata": {},
   "source": [
    "处理LAND SQUARE FEET，将数据变为整数型，将缺失值和0值替换为相同zipcode内的平均数，只保留大于10的值，转换为float数据类型"
   ]
  },
  {
   "cell_type": "code",
   "execution_count": 240,
   "id": "7abbf7b5",
   "metadata": {},
   "outputs": [],
   "source": [
    "df.drop(df[df['LAND SQUARE FEET'] ==' -  '].index, inplace=True)\n",
    "df['LAND SQUARE FEET'] = pd.to_numeric(df['LAND SQUARE FEET'],errors='coerce')\n",
    "# df = df.dropna(subset=['LAND SQUARE FEET'])\n",
    "df['LAND SQUARE FEET'] = df['LAND SQUARE FEET'].fillna(df.groupby('ZIP CODE')['LAND SQUARE FEET'].transform('mean'))\n",
    "df.drop(df[df['LAND SQUARE FEET'] < 10].index, inplace=True)\n",
    "df['LAND SQUARE FEET'] = df['LAND SQUARE FEET'].astype('float64')"
   ]
  },
  {
   "cell_type": "code",
   "execution_count": 241,
   "id": "7f470995",
   "metadata": {},
   "outputs": [
    {
     "data": {
      "text/plain": [
       "(270306, 17)"
      ]
     },
     "execution_count": 241,
     "metadata": {},
     "output_type": "execute_result"
    }
   ],
   "source": [
    "df.shape"
   ]
  },
  {
   "cell_type": "markdown",
   "id": "45628f78",
   "metadata": {},
   "source": [
    "处理GROSS SQUARE FEET，将数据变为整数型，将缺失值和0值替换为相同zipcode内的平均数，只保留大于10的值"
   ]
  },
  {
   "cell_type": "code",
   "execution_count": 242,
   "id": "bda2965a",
   "metadata": {},
   "outputs": [],
   "source": [
    "df.drop(df[df['GROSS SQUARE FEET'] ==' -  '].index, inplace=True)\n",
    "df['GROSS SQUARE FEET'] = pd.to_numeric(df['GROSS SQUARE FEET'],errors='coerce')\n",
    "df['GROSS SQUARE FEET'] = df['GROSS SQUARE FEET'].fillna(df.groupby('ZIP CODE')['GROSS SQUARE FEET'].transform('mean'))\n",
    "df.drop(df[df['GROSS SQUARE FEET'] < 10].index, inplace=True)\n",
    "df['GROSS SQUARE FEET'] = df['GROSS SQUARE FEET'].astype('float64')"
   ]
  },
  {
   "cell_type": "code",
   "execution_count": 243,
   "id": "46cb85e8",
   "metadata": {},
   "outputs": [
    {
     "data": {
      "text/plain": [
       "(260109, 17)"
      ]
     },
     "execution_count": 243,
     "metadata": {},
     "output_type": "execute_result"
    }
   ],
   "source": [
    "df.shape"
   ]
  },
  {
   "cell_type": "markdown",
   "id": "a0e512f4",
   "metadata": {},
   "source": [
    "处理YEAR BUILT，将缺失值和0值替换为相同zipcode内的中位数，只保留大于1600的值"
   ]
  },
  {
   "cell_type": "code",
   "execution_count": 244,
   "id": "017ad826",
   "metadata": {},
   "outputs": [],
   "source": [
    "df['YEAR BUILT'] = df['YEAR BUILT'].replace(0, np.nan)\n",
    "df['YEAR BUILT'] = df['YEAR BUILT'].fillna(df.groupby('ZIP CODE')['YEAR BUILT'].transform('median'))\n",
    "df = df.dropna(subset=['YEAR BUILT'])\n",
    "df.drop(df[df['YEAR BUILT'] < 1600].index, inplace=True)\n",
    "df['YEAR BUILT'] = df['YEAR BUILT'].apply(lambda x: round(x)) #中位数四舍五入"
   ]
  },
  {
   "cell_type": "code",
   "execution_count": 245,
   "id": "f846f938",
   "metadata": {},
   "outputs": [
    {
     "data": {
      "text/plain": [
       "(260107, 17)"
      ]
     },
     "execution_count": 245,
     "metadata": {},
     "output_type": "execute_result"
    }
   ],
   "source": [
    "df.shape"
   ]
  },
  {
   "cell_type": "markdown",
   "id": "79979e76",
   "metadata": {},
   "source": [
    "处理TAX CLASS AT TIME OF SALE，将数据变为object,删除缺失值"
   ]
  },
  {
   "cell_type": "code",
   "execution_count": 246,
   "id": "818bf9c7",
   "metadata": {},
   "outputs": [],
   "source": [
    "df['TAX CLASS AT TIME OF SALE'] = df['TAX CLASS AT TIME OF SALE'].astype('object')\n",
    "df = df.dropna(subset=['TAX CLASS AT TIME OF SALE'])"
   ]
  },
  {
   "cell_type": "code",
   "execution_count": 247,
   "id": "ba4f44ee",
   "metadata": {},
   "outputs": [
    {
     "data": {
      "text/plain": [
       "(260107, 17)"
      ]
     },
     "execution_count": 247,
     "metadata": {},
     "output_type": "execute_result"
    }
   ],
   "source": [
    "df.shape"
   ]
  },
  {
   "cell_type": "markdown",
   "id": "96150730",
   "metadata": {},
   "source": [
    "处理Neighboor，删除缺失值，将小于从低到高10%分位数的值全部归为OTHER"
   ]
  },
  {
   "cell_type": "code",
   "execution_count": 248,
   "id": "3d359bad",
   "metadata": {},
   "outputs": [],
   "source": [
    "df = df.dropna(subset=['NEIGHBORHOOD'])"
   ]
  },
  {
   "cell_type": "code",
   "execution_count": 249,
   "id": "f87b8b71",
   "metadata": {},
   "outputs": [
    {
     "data": {
      "text/plain": [
       "254"
      ]
     },
     "execution_count": 249,
     "metadata": {},
     "output_type": "execute_result"
    }
   ],
   "source": [
    "df['NEIGHBORHOOD'].nunique()"
   ]
  },
  {
   "cell_type": "code",
   "execution_count": 250,
   "id": "ea828264",
   "metadata": {},
   "outputs": [],
   "source": [
    "NEIGHBORHOOD_counts = df['NEIGHBORHOOD'].value_counts(normalize=True)\n",
    "NEIGHBORHOOD_counts_sorted = NEIGHBORHOOD_counts.sort_values(ascending=False)\n",
    "threshold_index = int(np.ceil(0.9 * len(NEIGHBORHOOD_counts_sorted)))\n",
    "low_freq_NEIGHBORHOOD = NEIGHBORHOOD_counts_sorted.index[threshold_index:]\n",
    "df.loc[df['NEIGHBORHOOD'].isin(low_freq_NEIGHBORHOOD),'NEIGHBORHOOD'] = 'OTHER'"
   ]
  },
  {
   "cell_type": "code",
   "execution_count": 251,
   "id": "6d35d5bc",
   "metadata": {},
   "outputs": [
    {
     "data": {
      "text/plain": [
       "230"
      ]
     },
     "execution_count": 251,
     "metadata": {},
     "output_type": "execute_result"
    }
   ],
   "source": [
    "df['NEIGHBORHOOD'].nunique()"
   ]
  },
  {
   "cell_type": "code",
   "execution_count": 252,
   "id": "eabbd47f",
   "metadata": {},
   "outputs": [
    {
     "data": {
      "text/plain": [
       "(260107, 17)"
      ]
     },
     "execution_count": 252,
     "metadata": {},
     "output_type": "execute_result"
    }
   ],
   "source": [
    "df.shape"
   ]
  },
  {
   "cell_type": "markdown",
   "id": "5bf5ab0d",
   "metadata": {},
   "source": [
    "处理BUILDING CLASS CATEGORY，删除缺失值，将小于从低到高10%分位数的值全部归为OTHER"
   ]
  },
  {
   "cell_type": "code",
   "execution_count": 253,
   "id": "b938c21e",
   "metadata": {},
   "outputs": [],
   "source": [
    "df = df.dropna(subset=['BUILDING CLASS CATEGORY'])"
   ]
  },
  {
   "cell_type": "code",
   "execution_count": 254,
   "id": "4c46b25c",
   "metadata": {},
   "outputs": [
    {
     "data": {
      "text/plain": [
       "68"
      ]
     },
     "execution_count": 254,
     "metadata": {},
     "output_type": "execute_result"
    }
   ],
   "source": [
    "df['BUILDING CLASS CATEGORY'].nunique()"
   ]
  },
  {
   "cell_type": "code",
   "execution_count": 255,
   "id": "9387e44d",
   "metadata": {},
   "outputs": [],
   "source": [
    "BUILDING_CLASS_CATEGORY_counts = df['BUILDING CLASS CATEGORY'].value_counts(normalize=True)\n",
    "BUILDING_CLASS_CATEGORY_counts_sorted = BUILDING_CLASS_CATEGORY_counts.sort_values(ascending=False)\n",
    "threshold_index = int(np.ceil(0.9 * len(BUILDING_CLASS_CATEGORY_counts_sorted)))\n",
    "low_freq_BUILDING_CLASS_CATEGORY = BUILDING_CLASS_CATEGORY_counts_sorted.index[threshold_index:]\n",
    "df.loc[df['BUILDING CLASS CATEGORY'].isin(low_freq_BUILDING_CLASS_CATEGORY),'BUILDING CLASS CATEGORY'] = 'OTHER'"
   ]
  },
  {
   "cell_type": "code",
   "execution_count": 256,
   "id": "3a75e6dd",
   "metadata": {},
   "outputs": [
    {
     "data": {
      "text/plain": [
       "63"
      ]
     },
     "execution_count": 256,
     "metadata": {},
     "output_type": "execute_result"
    }
   ],
   "source": [
    "df['BUILDING CLASS CATEGORY'].nunique()"
   ]
  },
  {
   "cell_type": "code",
   "execution_count": 257,
   "id": "2374372f",
   "metadata": {},
   "outputs": [
    {
     "data": {
      "text/plain": [
       "(260107, 17)"
      ]
     },
     "execution_count": 257,
     "metadata": {},
     "output_type": "execute_result"
    }
   ],
   "source": [
    "df.shape"
   ]
  },
  {
   "cell_type": "code",
   "execution_count": null,
   "id": "c20d7c60",
   "metadata": {},
   "outputs": [],
   "source": []
  },
  {
   "cell_type": "code",
   "execution_count": null,
   "id": "5c5775c4",
   "metadata": {},
   "outputs": [],
   "source": []
  },
  {
   "cell_type": "markdown",
   "id": "d1c53eb8",
   "metadata": {},
   "source": [
    "处理SALE DATE,将数据转为时间格式，只保留19-23年数据"
   ]
  },
  {
   "cell_type": "code",
   "execution_count": 258,
   "id": "55b4a01e",
   "metadata": {},
   "outputs": [],
   "source": [
    "df['SALE DATE'] = pd.to_datetime(df['SALE DATE'])\n",
    "df = df[df['SALE DATE'].dt.year >= 2019]"
   ]
  },
  {
   "cell_type": "code",
   "execution_count": 259,
   "id": "fb15a922",
   "metadata": {},
   "outputs": [
    {
     "data": {
      "text/plain": [
       "(178983, 17)"
      ]
     },
     "execution_count": 259,
     "metadata": {},
     "output_type": "execute_result"
    }
   ],
   "source": [
    "df.shape"
   ]
  },
  {
   "cell_type": "code",
   "execution_count": 260,
   "id": "ed6e5b9a",
   "metadata": {},
   "outputs": [],
   "source": [
    "df = df.reset_index()"
   ]
  },
  {
   "cell_type": "markdown",
   "id": "06909339",
   "metadata": {},
   "source": [
    "创建单位面积价格特征"
   ]
  },
  {
   "cell_type": "code",
   "execution_count": 261,
   "id": "82239085",
   "metadata": {},
   "outputs": [],
   "source": [
    "df['ft_price'] = df['SALE PRICE'] / df['GROSS SQUARE FEET']\n",
    "df[\"log_ft_price\"] = df[\"ft_price\"].apply(np.log)"
   ]
  },
  {
   "cell_type": "code",
   "execution_count": 262,
   "id": "ff44c64f",
   "metadata": {},
   "outputs": [
    {
     "data": {
      "text/plain": [
       "index                                             int64\n",
       "BOROUGH                                          object\n",
       "NEIGHBORHOOD                                     object\n",
       "BUILDING CLASS CATEGORY                          object\n",
       "TAX CLASS AS OF FINAL ROLL 18/19                 object\n",
       "BUILDING CLASS AS OF FINAL ROLL 18/19            object\n",
       "ZIP CODE                                         object\n",
       "RESIDENTIAL UNITS                               float64\n",
       "COMMERCIAL UNITS                                float64\n",
       "TOTAL UNITS                                     float64\n",
       "LAND SQUARE FEET                                float64\n",
       "GROSS SQUARE FEET                               float64\n",
       "YEAR BUILT                                        int64\n",
       "TAX CLASS AT TIME OF SALE                        object\n",
       "BUILDING CLASS AT TIME OF SALE                   object\n",
       "SALE PRICE                                      float64\n",
       "SALE DATE                                datetime64[ns]\n",
       "log_Sale_Price                                  float64\n",
       "ft_price                                        float64\n",
       "log_ft_price                                    float64\n",
       "dtype: object"
      ]
     },
     "execution_count": 262,
     "metadata": {},
     "output_type": "execute_result"
    }
   ],
   "source": [
    "df.dtypes"
   ]
  },
  {
   "cell_type": "code",
   "execution_count": 263,
   "id": "015f4d26",
   "metadata": {},
   "outputs": [],
   "source": [
    "del df['index']"
   ]
  },
  {
   "cell_type": "code",
   "execution_count": 264,
   "id": "3a0b9845",
   "metadata": {},
   "outputs": [
    {
     "data": {
      "text/html": [
       "<div>\n",
       "<style scoped>\n",
       "    .dataframe tbody tr th:only-of-type {\n",
       "        vertical-align: middle;\n",
       "    }\n",
       "\n",
       "    .dataframe tbody tr th {\n",
       "        vertical-align: top;\n",
       "    }\n",
       "\n",
       "    .dataframe thead th {\n",
       "        text-align: right;\n",
       "    }\n",
       "</style>\n",
       "<table border=\"1\" class=\"dataframe\">\n",
       "  <thead>\n",
       "    <tr style=\"text-align: right;\">\n",
       "      <th></th>\n",
       "      <th>count</th>\n",
       "      <th>mean</th>\n",
       "      <th>std</th>\n",
       "      <th>min</th>\n",
       "      <th>25%</th>\n",
       "      <th>50%</th>\n",
       "      <th>75%</th>\n",
       "      <th>max</th>\n",
       "    </tr>\n",
       "  </thead>\n",
       "  <tbody>\n",
       "    <tr>\n",
       "      <th>RESIDENTIAL UNITS</th>\n",
       "      <td>178983.0</td>\n",
       "      <td>3.695044e+00</td>\n",
       "      <td>3.099939e+01</td>\n",
       "      <td>0.000000</td>\n",
       "      <td>1.000000</td>\n",
       "      <td>2.000000</td>\n",
       "      <td>2.000000e+00</td>\n",
       "      <td>8.764000e+03</td>\n",
       "    </tr>\n",
       "    <tr>\n",
       "      <th>COMMERCIAL UNITS</th>\n",
       "      <td>178983.0</td>\n",
       "      <td>3.475023e-01</td>\n",
       "      <td>8.515622e+00</td>\n",
       "      <td>0.000000</td>\n",
       "      <td>0.000000</td>\n",
       "      <td>0.000000</td>\n",
       "      <td>0.000000e+00</td>\n",
       "      <td>2.261000e+03</td>\n",
       "    </tr>\n",
       "    <tr>\n",
       "      <th>TOTAL UNITS</th>\n",
       "      <td>178983.0</td>\n",
       "      <td>4.042546e+00</td>\n",
       "      <td>3.222715e+01</td>\n",
       "      <td>0.000000</td>\n",
       "      <td>1.000000</td>\n",
       "      <td>2.000000</td>\n",
       "      <td>2.000000e+00</td>\n",
       "      <td>8.812000e+03</td>\n",
       "    </tr>\n",
       "    <tr>\n",
       "      <th>LAND SQUARE FEET</th>\n",
       "      <td>178983.0</td>\n",
       "      <td>6.444435e+03</td>\n",
       "      <td>1.284423e+05</td>\n",
       "      <td>35.000000</td>\n",
       "      <td>2000.000000</td>\n",
       "      <td>2500.000000</td>\n",
       "      <td>4.000000e+03</td>\n",
       "      <td>1.985040e+07</td>\n",
       "    </tr>\n",
       "    <tr>\n",
       "      <th>GROSS SQUARE FEET</th>\n",
       "      <td>178983.0</td>\n",
       "      <td>5.721270e+03</td>\n",
       "      <td>4.779712e+04</td>\n",
       "      <td>30.000000</td>\n",
       "      <td>1428.000000</td>\n",
       "      <td>2000.000000</td>\n",
       "      <td>2.846000e+03</td>\n",
       "      <td>8.942176e+06</td>\n",
       "    </tr>\n",
       "    <tr>\n",
       "      <th>YEAR BUILT</th>\n",
       "      <td>178983.0</td>\n",
       "      <td>1.941670e+03</td>\n",
       "      <td>3.074727e+01</td>\n",
       "      <td>1800.000000</td>\n",
       "      <td>1920.000000</td>\n",
       "      <td>1931.000000</td>\n",
       "      <td>1.960000e+03</td>\n",
       "      <td>2.022000e+03</td>\n",
       "    </tr>\n",
       "    <tr>\n",
       "      <th>SALE PRICE</th>\n",
       "      <td>178981.0</td>\n",
       "      <td>1.423910e+06</td>\n",
       "      <td>3.531414e+06</td>\n",
       "      <td>10000.000000</td>\n",
       "      <td>617000.000000</td>\n",
       "      <td>844000.000000</td>\n",
       "      <td>1.228844e+06</td>\n",
       "      <td>9.976923e+07</td>\n",
       "    </tr>\n",
       "    <tr>\n",
       "      <th>log_Sale_Price</th>\n",
       "      <td>178981.0</td>\n",
       "      <td>1.373635e+01</td>\n",
       "      <td>7.384168e-01</td>\n",
       "      <td>9.210340</td>\n",
       "      <td>13.332624</td>\n",
       "      <td>13.645908</td>\n",
       "      <td>1.402158e+01</td>\n",
       "      <td>1.841837e+01</td>\n",
       "    </tr>\n",
       "    <tr>\n",
       "      <th>ft_price</th>\n",
       "      <td>178981.0</td>\n",
       "      <td>5.196019e+02</td>\n",
       "      <td>1.073799e+03</td>\n",
       "      <td>0.067098</td>\n",
       "      <td>316.860465</td>\n",
       "      <td>436.403509</td>\n",
       "      <td>5.909091e+02</td>\n",
       "      <td>3.250000e+05</td>\n",
       "    </tr>\n",
       "    <tr>\n",
       "      <th>log_ft_price</th>\n",
       "      <td>178981.0</td>\n",
       "      <td>6.026215e+00</td>\n",
       "      <td>7.316087e-01</td>\n",
       "      <td>-2.701605</td>\n",
       "      <td>5.758462</td>\n",
       "      <td>6.078567</td>\n",
       "      <td>6.381662e+00</td>\n",
       "      <td>1.269158e+01</td>\n",
       "    </tr>\n",
       "  </tbody>\n",
       "</table>\n",
       "</div>"
      ],
      "text/plain": [
       "                      count          mean           std           min  \\\n",
       "RESIDENTIAL UNITS  178983.0  3.695044e+00  3.099939e+01      0.000000   \n",
       "COMMERCIAL UNITS   178983.0  3.475023e-01  8.515622e+00      0.000000   \n",
       "TOTAL UNITS        178983.0  4.042546e+00  3.222715e+01      0.000000   \n",
       "LAND SQUARE FEET   178983.0  6.444435e+03  1.284423e+05     35.000000   \n",
       "GROSS SQUARE FEET  178983.0  5.721270e+03  4.779712e+04     30.000000   \n",
       "YEAR BUILT         178983.0  1.941670e+03  3.074727e+01   1800.000000   \n",
       "SALE PRICE         178981.0  1.423910e+06  3.531414e+06  10000.000000   \n",
       "log_Sale_Price     178981.0  1.373635e+01  7.384168e-01      9.210340   \n",
       "ft_price           178981.0  5.196019e+02  1.073799e+03      0.067098   \n",
       "log_ft_price       178981.0  6.026215e+00  7.316087e-01     -2.701605   \n",
       "\n",
       "                             25%            50%           75%           max  \n",
       "RESIDENTIAL UNITS       1.000000       2.000000  2.000000e+00  8.764000e+03  \n",
       "COMMERCIAL UNITS        0.000000       0.000000  0.000000e+00  2.261000e+03  \n",
       "TOTAL UNITS             1.000000       2.000000  2.000000e+00  8.812000e+03  \n",
       "LAND SQUARE FEET     2000.000000    2500.000000  4.000000e+03  1.985040e+07  \n",
       "GROSS SQUARE FEET    1428.000000    2000.000000  2.846000e+03  8.942176e+06  \n",
       "YEAR BUILT           1920.000000    1931.000000  1.960000e+03  2.022000e+03  \n",
       "SALE PRICE         617000.000000  844000.000000  1.228844e+06  9.976923e+07  \n",
       "log_Sale_Price         13.332624      13.645908  1.402158e+01  1.841837e+01  \n",
       "ft_price              316.860465     436.403509  5.909091e+02  3.250000e+05  \n",
       "log_ft_price            5.758462       6.078567  6.381662e+00  1.269158e+01  "
      ]
     },
     "execution_count": 264,
     "metadata": {},
     "output_type": "execute_result"
    }
   ],
   "source": [
    "df.describe().T"
   ]
  },
  {
   "cell_type": "code",
   "execution_count": 265,
   "id": "6faea7e5",
   "metadata": {},
   "outputs": [
    {
     "data": {
      "text/html": [
       "<style type=\"text/css\">\n",
       "#T_0a9bc_row0_col0, #T_0a9bc_row1_col1, #T_0a9bc_row2_col2, #T_0a9bc_row3_col3, #T_0a9bc_row4_col4, #T_0a9bc_row5_col5, #T_0a9bc_row6_col6, #T_0a9bc_row7_col7, #T_0a9bc_row8_col8, #T_0a9bc_row9_col9 {\n",
       "  background-color: #b40426;\n",
       "  color: #f1f1f1;\n",
       "}\n",
       "#T_0a9bc_row0_col1, #T_0a9bc_row2_col6 {\n",
       "  background-color: #5f7fe8;\n",
       "  color: #f1f1f1;\n",
       "}\n",
       "#T_0a9bc_row0_col2, #T_0a9bc_row2_col0 {\n",
       "  background-color: #bd1f2d;\n",
       "  color: #f1f1f1;\n",
       "}\n",
       "#T_0a9bc_row0_col3, #T_0a9bc_row0_col7 {\n",
       "  background-color: #7597f6;\n",
       "  color: #f1f1f1;\n",
       "}\n",
       "#T_0a9bc_row0_col4 {\n",
       "  background-color: #f39778;\n",
       "  color: #000000;\n",
       "}\n",
       "#T_0a9bc_row0_col5 {\n",
       "  background-color: #81a4fb;\n",
       "  color: #f1f1f1;\n",
       "}\n",
       "#T_0a9bc_row0_col6, #T_0a9bc_row8_col1 {\n",
       "  background-color: #5a78e4;\n",
       "  color: #f1f1f1;\n",
       "}\n",
       "#T_0a9bc_row0_col8 {\n",
       "  background-color: #4257c9;\n",
       "  color: #f1f1f1;\n",
       "}\n",
       "#T_0a9bc_row0_col9 {\n",
       "  background-color: #4b64d5;\n",
       "  color: #f1f1f1;\n",
       "}\n",
       "#T_0a9bc_row1_col0, #T_0a9bc_row8_col6 {\n",
       "  background-color: #89acfd;\n",
       "  color: #000000;\n",
       "}\n",
       "#T_0a9bc_row1_col2 {\n",
       "  background-color: #cfdaea;\n",
       "  color: #000000;\n",
       "}\n",
       "#T_0a9bc_row1_col3 {\n",
       "  background-color: #dbdcde;\n",
       "  color: #000000;\n",
       "}\n",
       "#T_0a9bc_row1_col4 {\n",
       "  background-color: #d9dce1;\n",
       "  color: #000000;\n",
       "}\n",
       "#T_0a9bc_row1_col5, #T_0a9bc_row8_col3 {\n",
       "  background-color: #6788ee;\n",
       "  color: #f1f1f1;\n",
       "}\n",
       "#T_0a9bc_row1_col6, #T_0a9bc_row5_col1, #T_0a9bc_row6_col5 {\n",
       "  background-color: #5b7ae5;\n",
       "  color: #f1f1f1;\n",
       "}\n",
       "#T_0a9bc_row1_col7, #T_0a9bc_row3_col5, #T_0a9bc_row4_col6 {\n",
       "  background-color: #6e90f2;\n",
       "  color: #f1f1f1;\n",
       "}\n",
       "#T_0a9bc_row1_col8, #T_0a9bc_row2_col9, #T_0a9bc_row3_col8 {\n",
       "  background-color: #465ecf;\n",
       "  color: #f1f1f1;\n",
       "}\n",
       "#T_0a9bc_row1_col9 {\n",
       "  background-color: #779af7;\n",
       "  color: #f1f1f1;\n",
       "}\n",
       "#T_0a9bc_row2_col1 {\n",
       "  background-color: #b1cbfc;\n",
       "  color: #000000;\n",
       "}\n",
       "#T_0a9bc_row2_col3 {\n",
       "  background-color: #96b7ff;\n",
       "  color: #000000;\n",
       "}\n",
       "#T_0a9bc_row2_col4 {\n",
       "  background-color: #ee8669;\n",
       "  color: #f1f1f1;\n",
       "}\n",
       "#T_0a9bc_row2_col5, #T_0a9bc_row4_col7, #T_0a9bc_row8_col0 {\n",
       "  background-color: #80a3fa;\n",
       "  color: #f1f1f1;\n",
       "}\n",
       "#T_0a9bc_row2_col7 {\n",
       "  background-color: #799cf8;\n",
       "  color: #f1f1f1;\n",
       "}\n",
       "#T_0a9bc_row2_col8 {\n",
       "  background-color: #4055c8;\n",
       "  color: #f1f1f1;\n",
       "}\n",
       "#T_0a9bc_row3_col0 {\n",
       "  background-color: #92b4fe;\n",
       "  color: #000000;\n",
       "}\n",
       "#T_0a9bc_row3_col1 {\n",
       "  background-color: #d5dbe5;\n",
       "  color: #000000;\n",
       "}\n",
       "#T_0a9bc_row3_col2 {\n",
       "  background-color: #b2ccfb;\n",
       "  color: #000000;\n",
       "}\n",
       "#T_0a9bc_row3_col4 {\n",
       "  background-color: #f7b599;\n",
       "  color: #000000;\n",
       "}\n",
       "#T_0a9bc_row3_col6 {\n",
       "  background-color: #4f69d9;\n",
       "  color: #f1f1f1;\n",
       "}\n",
       "#T_0a9bc_row3_col7 {\n",
       "  background-color: #6384eb;\n",
       "  color: #f1f1f1;\n",
       "}\n",
       "#T_0a9bc_row3_col9 {\n",
       "  background-color: #6a8bef;\n",
       "  color: #f1f1f1;\n",
       "}\n",
       "#T_0a9bc_row4_col0 {\n",
       "  background-color: #f59c7d;\n",
       "  color: #000000;\n",
       "}\n",
       "#T_0a9bc_row4_col1, #T_0a9bc_row6_col4 {\n",
       "  background-color: #b6cefa;\n",
       "  color: #000000;\n",
       "}\n",
       "#T_0a9bc_row4_col2 {\n",
       "  background-color: #f08a6c;\n",
       "  color: #f1f1f1;\n",
       "}\n",
       "#T_0a9bc_row4_col3, #T_0a9bc_row7_col9 {\n",
       "  background-color: #f4c6af;\n",
       "  color: #000000;\n",
       "}\n",
       "#T_0a9bc_row4_col5 {\n",
       "  background-color: #7ea1fa;\n",
       "  color: #f1f1f1;\n",
       "}\n",
       "#T_0a9bc_row4_col8 {\n",
       "  background-color: #3f53c6;\n",
       "  color: #f1f1f1;\n",
       "}\n",
       "#T_0a9bc_row4_col9, #T_0a9bc_row5_col6, #T_0a9bc_row5_col7, #T_0a9bc_row5_col8, #T_0a9bc_row9_col0, #T_0a9bc_row9_col1, #T_0a9bc_row9_col2, #T_0a9bc_row9_col3, #T_0a9bc_row9_col4, #T_0a9bc_row9_col5 {\n",
       "  background-color: #3b4cc0;\n",
       "  color: #f1f1f1;\n",
       "}\n",
       "#T_0a9bc_row5_col0 {\n",
       "  background-color: #9ebeff;\n",
       "  color: #000000;\n",
       "}\n",
       "#T_0a9bc_row5_col2 {\n",
       "  background-color: #a1c0ff;\n",
       "  color: #000000;\n",
       "}\n",
       "#T_0a9bc_row5_col3 {\n",
       "  background-color: #6f92f3;\n",
       "  color: #f1f1f1;\n",
       "}\n",
       "#T_0a9bc_row5_col4 {\n",
       "  background-color: #aac7fd;\n",
       "  color: #000000;\n",
       "}\n",
       "#T_0a9bc_row5_col9 {\n",
       "  background-color: #6b8df0;\n",
       "  color: #f1f1f1;\n",
       "}\n",
       "#T_0a9bc_row6_col0 {\n",
       "  background-color: #98b9ff;\n",
       "  color: #000000;\n",
       "}\n",
       "#T_0a9bc_row6_col1, #T_0a9bc_row6_col3 {\n",
       "  background-color: #7295f4;\n",
       "  color: #f1f1f1;\n",
       "}\n",
       "#T_0a9bc_row6_col2 {\n",
       "  background-color: #a2c1ff;\n",
       "  color: #000000;\n",
       "}\n",
       "#T_0a9bc_row6_col7 {\n",
       "  background-color: #f7b89c;\n",
       "  color: #000000;\n",
       "}\n",
       "#T_0a9bc_row6_col8 {\n",
       "  background-color: #8caffe;\n",
       "  color: #000000;\n",
       "}\n",
       "#T_0a9bc_row6_col9 {\n",
       "  background-color: #c7d7f0;\n",
       "  color: #000000;\n",
       "}\n",
       "#T_0a9bc_row7_col0 {\n",
       "  background-color: #9dbdff;\n",
       "  color: #000000;\n",
       "}\n",
       "#T_0a9bc_row7_col1 {\n",
       "  background-color: #6c8ff1;\n",
       "  color: #f1f1f1;\n",
       "}\n",
       "#T_0a9bc_row7_col2, #T_0a9bc_row8_col7 {\n",
       "  background-color: #a3c2fe;\n",
       "  color: #000000;\n",
       "}\n",
       "#T_0a9bc_row7_col3 {\n",
       "  background-color: #7093f3;\n",
       "  color: #f1f1f1;\n",
       "}\n",
       "#T_0a9bc_row7_col4 {\n",
       "  background-color: #b3cdfb;\n",
       "  color: #000000;\n",
       "}\n",
       "#T_0a9bc_row7_col5 {\n",
       "  background-color: #455cce;\n",
       "  color: #f1f1f1;\n",
       "}\n",
       "#T_0a9bc_row7_col6 {\n",
       "  background-color: #f6bfa6;\n",
       "  color: #000000;\n",
       "}\n",
       "#T_0a9bc_row7_col8 {\n",
       "  background-color: #93b5fe;\n",
       "  color: #000000;\n",
       "}\n",
       "#T_0a9bc_row8_col2 {\n",
       "  background-color: #84a7fc;\n",
       "  color: #f1f1f1;\n",
       "}\n",
       "#T_0a9bc_row8_col4 {\n",
       "  background-color: #8fb1fe;\n",
       "  color: #000000;\n",
       "}\n",
       "#T_0a9bc_row8_col5 {\n",
       "  background-color: #5977e3;\n",
       "  color: #f1f1f1;\n",
       "}\n",
       "#T_0a9bc_row8_col9 {\n",
       "  background-color: #e1dad6;\n",
       "  color: #000000;\n",
       "}\n",
       "#T_0a9bc_row9_col6 {\n",
       "  background-color: #86a9fc;\n",
       "  color: #f1f1f1;\n",
       "}\n",
       "#T_0a9bc_row9_col7 {\n",
       "  background-color: #e4d9d2;\n",
       "  color: #000000;\n",
       "}\n",
       "#T_0a9bc_row9_col8 {\n",
       "  background-color: #b5cdfa;\n",
       "  color: #000000;\n",
       "}\n",
       "</style>\n",
       "<table id=\"T_0a9bc\">\n",
       "  <thead>\n",
       "    <tr>\n",
       "      <th class=\"blank level0\" >&nbsp;</th>\n",
       "      <th id=\"T_0a9bc_level0_col0\" class=\"col_heading level0 col0\" >RESIDENTIAL UNITS</th>\n",
       "      <th id=\"T_0a9bc_level0_col1\" class=\"col_heading level0 col1\" >COMMERCIAL UNITS</th>\n",
       "      <th id=\"T_0a9bc_level0_col2\" class=\"col_heading level0 col2\" >TOTAL UNITS</th>\n",
       "      <th id=\"T_0a9bc_level0_col3\" class=\"col_heading level0 col3\" >LAND SQUARE FEET</th>\n",
       "      <th id=\"T_0a9bc_level0_col4\" class=\"col_heading level0 col4\" >GROSS SQUARE FEET</th>\n",
       "      <th id=\"T_0a9bc_level0_col5\" class=\"col_heading level0 col5\" >YEAR BUILT</th>\n",
       "      <th id=\"T_0a9bc_level0_col6\" class=\"col_heading level0 col6\" >SALE PRICE</th>\n",
       "      <th id=\"T_0a9bc_level0_col7\" class=\"col_heading level0 col7\" >log_Sale_Price</th>\n",
       "      <th id=\"T_0a9bc_level0_col8\" class=\"col_heading level0 col8\" >ft_price</th>\n",
       "      <th id=\"T_0a9bc_level0_col9\" class=\"col_heading level0 col9\" >log_ft_price</th>\n",
       "    </tr>\n",
       "  </thead>\n",
       "  <tbody>\n",
       "    <tr>\n",
       "      <th id=\"T_0a9bc_level0_row0\" class=\"row_heading level0 row0\" >RESIDENTIAL UNITS</th>\n",
       "      <td id=\"T_0a9bc_row0_col0\" class=\"data row0 col0\" >1.00</td>\n",
       "      <td id=\"T_0a9bc_row0_col1\" class=\"data row0 col1\" >0.01</td>\n",
       "      <td id=\"T_0a9bc_row0_col2\" class=\"data row0 col2\" >0.96</td>\n",
       "      <td id=\"T_0a9bc_row0_col3\" class=\"data row0 col3\" >0.04</td>\n",
       "      <td id=\"T_0a9bc_row0_col4\" class=\"data row0 col4\" >0.66</td>\n",
       "      <td id=\"T_0a9bc_row0_col5\" class=\"data row0 col5\" >0.08</td>\n",
       "      <td id=\"T_0a9bc_row0_col6\" class=\"data row0 col6\" >0.07</td>\n",
       "      <td id=\"T_0a9bc_row0_col7\" class=\"data row0 col7\" >0.08</td>\n",
       "      <td id=\"T_0a9bc_row0_col8\" class=\"data row0 col8\" >-0.03</td>\n",
       "      <td id=\"T_0a9bc_row0_col9\" class=\"data row0 col9\" >-0.31</td>\n",
       "    </tr>\n",
       "    <tr>\n",
       "      <th id=\"T_0a9bc_level0_row1\" class=\"row_heading level0 row1\" >COMMERCIAL UNITS</th>\n",
       "      <td id=\"T_0a9bc_row1_col0\" class=\"data row1 col0\" >0.01</td>\n",
       "      <td id=\"T_0a9bc_row1_col1\" class=\"data row1 col1\" >1.00</td>\n",
       "      <td id=\"T_0a9bc_row1_col2\" class=\"data row1 col2\" >0.27</td>\n",
       "      <td id=\"T_0a9bc_row1_col3\" class=\"data row1 col3\" >0.41</td>\n",
       "      <td id=\"T_0a9bc_row1_col4\" class=\"data row1 col4\" >0.29</td>\n",
       "      <td id=\"T_0a9bc_row1_col5\" class=\"data row1 col5\" >-0.00</td>\n",
       "      <td id=\"T_0a9bc_row1_col6\" class=\"data row1 col6\" >0.07</td>\n",
       "      <td id=\"T_0a9bc_row1_col7\" class=\"data row1 col7\" >0.06</td>\n",
       "      <td id=\"T_0a9bc_row1_col8\" class=\"data row1 col8\" >-0.01</td>\n",
       "      <td id=\"T_0a9bc_row1_col9\" class=\"data row1 col9\" >-0.12</td>\n",
       "    </tr>\n",
       "    <tr>\n",
       "      <th id=\"T_0a9bc_level0_row2\" class=\"row_heading level0 row2\" >TOTAL UNITS</th>\n",
       "      <td id=\"T_0a9bc_row2_col0\" class=\"data row2 col0\" >0.96</td>\n",
       "      <td id=\"T_0a9bc_row2_col1\" class=\"data row2 col1\" >0.27</td>\n",
       "      <td id=\"T_0a9bc_row2_col2\" class=\"data row2 col2\" >1.00</td>\n",
       "      <td id=\"T_0a9bc_row2_col3\" class=\"data row2 col3\" >0.15</td>\n",
       "      <td id=\"T_0a9bc_row2_col4\" class=\"data row2 col4\" >0.72</td>\n",
       "      <td id=\"T_0a9bc_row2_col5\" class=\"data row2 col5\" >0.08</td>\n",
       "      <td id=\"T_0a9bc_row2_col6\" class=\"data row2 col6\" >0.08</td>\n",
       "      <td id=\"T_0a9bc_row2_col7\" class=\"data row2 col7\" >0.09</td>\n",
       "      <td id=\"T_0a9bc_row2_col8\" class=\"data row2 col8\" >-0.03</td>\n",
       "      <td id=\"T_0a9bc_row2_col9\" class=\"data row2 col9\" >-0.33</td>\n",
       "    </tr>\n",
       "    <tr>\n",
       "      <th id=\"T_0a9bc_level0_row3\" class=\"row_heading level0 row3\" >LAND SQUARE FEET</th>\n",
       "      <td id=\"T_0a9bc_row3_col0\" class=\"data row3 col0\" >0.04</td>\n",
       "      <td id=\"T_0a9bc_row3_col1\" class=\"data row3 col1\" >0.41</td>\n",
       "      <td id=\"T_0a9bc_row3_col2\" class=\"data row3 col2\" >0.15</td>\n",
       "      <td id=\"T_0a9bc_row3_col3\" class=\"data row3 col3\" >1.00</td>\n",
       "      <td id=\"T_0a9bc_row3_col4\" class=\"data row3 col4\" >0.55</td>\n",
       "      <td id=\"T_0a9bc_row3_col5\" class=\"data row3 col5\" >0.02</td>\n",
       "      <td id=\"T_0a9bc_row3_col6\" class=\"data row3 col6\" >0.03</td>\n",
       "      <td id=\"T_0a9bc_row3_col7\" class=\"data row3 col7\" >0.02</td>\n",
       "      <td id=\"T_0a9bc_row3_col8\" class=\"data row3 col8\" >-0.01</td>\n",
       "      <td id=\"T_0a9bc_row3_col9\" class=\"data row3 col9\" >-0.18</td>\n",
       "    </tr>\n",
       "    <tr>\n",
       "      <th id=\"T_0a9bc_level0_row4\" class=\"row_heading level0 row4\" >GROSS SQUARE FEET</th>\n",
       "      <td id=\"T_0a9bc_row4_col0\" class=\"data row4 col0\" >0.66</td>\n",
       "      <td id=\"T_0a9bc_row4_col1\" class=\"data row4 col1\" >0.29</td>\n",
       "      <td id=\"T_0a9bc_row4_col2\" class=\"data row4 col2\" >0.72</td>\n",
       "      <td id=\"T_0a9bc_row4_col3\" class=\"data row4 col3\" >0.55</td>\n",
       "      <td id=\"T_0a9bc_row4_col4\" class=\"data row4 col4\" >1.00</td>\n",
       "      <td id=\"T_0a9bc_row4_col5\" class=\"data row4 col5\" >0.08</td>\n",
       "      <td id=\"T_0a9bc_row4_col6\" class=\"data row4 col6\" >0.13</td>\n",
       "      <td id=\"T_0a9bc_row4_col7\" class=\"data row4 col7\" >0.11</td>\n",
       "      <td id=\"T_0a9bc_row4_col8\" class=\"data row4 col8\" >-0.03</td>\n",
       "      <td id=\"T_0a9bc_row4_col9\" class=\"data row4 col9\" >-0.38</td>\n",
       "    </tr>\n",
       "    <tr>\n",
       "      <th id=\"T_0a9bc_level0_row5\" class=\"row_heading level0 row5\" >YEAR BUILT</th>\n",
       "      <td id=\"T_0a9bc_row5_col0\" class=\"data row5 col0\" >0.08</td>\n",
       "      <td id=\"T_0a9bc_row5_col1\" class=\"data row5 col1\" >-0.00</td>\n",
       "      <td id=\"T_0a9bc_row5_col2\" class=\"data row5 col2\" >0.08</td>\n",
       "      <td id=\"T_0a9bc_row5_col3\" class=\"data row5 col3\" >0.02</td>\n",
       "      <td id=\"T_0a9bc_row5_col4\" class=\"data row5 col4\" >0.08</td>\n",
       "      <td id=\"T_0a9bc_row5_col5\" class=\"data row5 col5\" >1.00</td>\n",
       "      <td id=\"T_0a9bc_row5_col6\" class=\"data row5 col6\" >-0.04</td>\n",
       "      <td id=\"T_0a9bc_row5_col7\" class=\"data row5 col7\" >-0.13</td>\n",
       "      <td id=\"T_0a9bc_row5_col8\" class=\"data row5 col8\" >-0.05</td>\n",
       "      <td id=\"T_0a9bc_row5_col9\" class=\"data row5 col9\" >-0.17</td>\n",
       "    </tr>\n",
       "    <tr>\n",
       "      <th id=\"T_0a9bc_level0_row6\" class=\"row_heading level0 row6\" >SALE PRICE</th>\n",
       "      <td id=\"T_0a9bc_row6_col0\" class=\"data row6 col0\" >0.07</td>\n",
       "      <td id=\"T_0a9bc_row6_col1\" class=\"data row6 col1\" >0.07</td>\n",
       "      <td id=\"T_0a9bc_row6_col2\" class=\"data row6 col2\" >0.08</td>\n",
       "      <td id=\"T_0a9bc_row6_col3\" class=\"data row6 col3\" >0.03</td>\n",
       "      <td id=\"T_0a9bc_row6_col4\" class=\"data row6 col4\" >0.13</td>\n",
       "      <td id=\"T_0a9bc_row6_col5\" class=\"data row6 col5\" >-0.04</td>\n",
       "      <td id=\"T_0a9bc_row6_col6\" class=\"data row6 col6\" >1.00</td>\n",
       "      <td id=\"T_0a9bc_row6_col7\" class=\"data row6 col7\" >0.63</td>\n",
       "      <td id=\"T_0a9bc_row6_col8\" class=\"data row6 col8\" >0.21</td>\n",
       "      <td id=\"T_0a9bc_row6_col9\" class=\"data row6 col9\" >0.20</td>\n",
       "    </tr>\n",
       "    <tr>\n",
       "      <th id=\"T_0a9bc_level0_row7\" class=\"row_heading level0 row7\" >log_Sale_Price</th>\n",
       "      <td id=\"T_0a9bc_row7_col0\" class=\"data row7 col0\" >0.08</td>\n",
       "      <td id=\"T_0a9bc_row7_col1\" class=\"data row7 col1\" >0.06</td>\n",
       "      <td id=\"T_0a9bc_row7_col2\" class=\"data row7 col2\" >0.09</td>\n",
       "      <td id=\"T_0a9bc_row7_col3\" class=\"data row7 col3\" >0.02</td>\n",
       "      <td id=\"T_0a9bc_row7_col4\" class=\"data row7 col4\" >0.11</td>\n",
       "      <td id=\"T_0a9bc_row7_col5\" class=\"data row7 col5\" >-0.13</td>\n",
       "      <td id=\"T_0a9bc_row7_col6\" class=\"data row7 col6\" >0.63</td>\n",
       "      <td id=\"T_0a9bc_row7_col7\" class=\"data row7 col7\" >1.00</td>\n",
       "      <td id=\"T_0a9bc_row7_col8\" class=\"data row7 col8\" >0.23</td>\n",
       "      <td id=\"T_0a9bc_row7_col9\" class=\"data row7 col9\" >0.47</td>\n",
       "    </tr>\n",
       "    <tr>\n",
       "      <th id=\"T_0a9bc_level0_row8\" class=\"row_heading level0 row8\" >ft_price</th>\n",
       "      <td id=\"T_0a9bc_row8_col0\" class=\"data row8 col0\" >-0.03</td>\n",
       "      <td id=\"T_0a9bc_row8_col1\" class=\"data row8 col1\" >-0.01</td>\n",
       "      <td id=\"T_0a9bc_row8_col2\" class=\"data row8 col2\" >-0.03</td>\n",
       "      <td id=\"T_0a9bc_row8_col3\" class=\"data row8 col3\" >-0.01</td>\n",
       "      <td id=\"T_0a9bc_row8_col4\" class=\"data row8 col4\" >-0.03</td>\n",
       "      <td id=\"T_0a9bc_row8_col5\" class=\"data row8 col5\" >-0.05</td>\n",
       "      <td id=\"T_0a9bc_row8_col6\" class=\"data row8 col6\" >0.21</td>\n",
       "      <td id=\"T_0a9bc_row8_col7\" class=\"data row8 col7\" >0.23</td>\n",
       "      <td id=\"T_0a9bc_row8_col8\" class=\"data row8 col8\" >1.00</td>\n",
       "      <td id=\"T_0a9bc_row8_col9\" class=\"data row8 col9\" >0.33</td>\n",
       "    </tr>\n",
       "    <tr>\n",
       "      <th id=\"T_0a9bc_level0_row9\" class=\"row_heading level0 row9\" >log_ft_price</th>\n",
       "      <td id=\"T_0a9bc_row9_col0\" class=\"data row9 col0\" >-0.31</td>\n",
       "      <td id=\"T_0a9bc_row9_col1\" class=\"data row9 col1\" >-0.12</td>\n",
       "      <td id=\"T_0a9bc_row9_col2\" class=\"data row9 col2\" >-0.33</td>\n",
       "      <td id=\"T_0a9bc_row9_col3\" class=\"data row9 col3\" >-0.18</td>\n",
       "      <td id=\"T_0a9bc_row9_col4\" class=\"data row9 col4\" >-0.38</td>\n",
       "      <td id=\"T_0a9bc_row9_col5\" class=\"data row9 col5\" >-0.17</td>\n",
       "      <td id=\"T_0a9bc_row9_col6\" class=\"data row9 col6\" >0.20</td>\n",
       "      <td id=\"T_0a9bc_row9_col7\" class=\"data row9 col7\" >0.47</td>\n",
       "      <td id=\"T_0a9bc_row9_col8\" class=\"data row9 col8\" >0.33</td>\n",
       "      <td id=\"T_0a9bc_row9_col9\" class=\"data row9 col9\" >1.00</td>\n",
       "    </tr>\n",
       "  </tbody>\n",
       "</table>\n"
      ],
      "text/plain": [
       "<pandas.io.formats.style.Styler at 0x16447560520>"
      ]
     },
     "execution_count": 265,
     "metadata": {},
     "output_type": "execute_result"
    }
   ],
   "source": [
    "df.corr().style.background_gradient(cmap='coolwarm').set_precision(2)"
   ]
  },
  {
   "cell_type": "code",
   "execution_count": 266,
   "id": "b435042b",
   "metadata": {},
   "outputs": [
    {
     "data": {
      "image/png": "[encoded data removed]",
      "text/plain": [
       "<Figure size 1100x800 with 2 Axes>"
      ]
     },
     "metadata": {},
     "output_type": "display_data"
    }
   ],
   "source": [
    "import matplotlib.pyplot as plt\n",
    "import seaborn as sns\n",
    "corr = df.corr()\n",
    "plt.figure(figsize=(11,8))\n",
    "sns.heatmap(corr, cmap=\"coolwarm\",annot=False)\n",
    "plt.show()"
   ]
  },
  {
   "cell_type": "code",
   "execution_count": 267,
   "id": "c78ce42d",
   "metadata": {},
   "outputs": [],
   "source": [
    "df.to_csv('outcome.csv')"
   ]
  },
  {
   "cell_type": "code",
   "execution_count": 268,
   "id": "6bb6cd5b",
   "metadata": {},
   "outputs": [
    {
     "data": {
      "text/plain": [
       "SALE PRICE           1.000000\n",
       "log_Sale_Price       0.625808\n",
       "ft_price             0.210127\n",
       "log_ft_price         0.202088\n",
       "GROSS SQUARE FEET    0.128095\n",
       "TOTAL UNITS          0.083498\n",
       "COMMERCIAL UNITS     0.072336\n",
       "RESIDENTIAL UNITS    0.066934\n",
       "LAND SQUARE FEET     0.028448\n",
       "YEAR BUILT          -0.041519\n",
       "Name: SALE PRICE, dtype: float64"
      ]
     },
     "execution_count": 268,
     "metadata": {},
     "output_type": "execute_result"
    }
   ],
   "source": [
    "corrDf=df.corr()\n",
    "corrDf\n",
    "corrDf['SALE PRICE'].sort_values(ascending=False)"
   ]
  },
  {
   "cell_type": "code",
   "execution_count": null,
   "id": "044421ae",
   "metadata": {},
   "outputs": [],
   "source": []
  }
 ],
 "metadata": {
  "kernelspec": {
   "display_name": "Python 3 (ipykernel)",
   "language": "python",
   "name": "python3"
  },
  "language_info": {
   "codemirror_mode": {
    "name": "ipython",
    "version": 3
   },
   "file_extension": ".py",
   "mimetype": "text/x-python",
   "name": "python",
   "nbconvert_exporter": "python",
   "pygments_lexer": "ipython3",
   "version": "3.9.16"
  }
 },
 "nbformat": 4,
 "nbformat_minor": 5
}
